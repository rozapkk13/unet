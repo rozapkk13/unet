{
  "cells": [
    {
      "cell_type": "markdown",
      "metadata": {
        "id": "view-in-github",
        "colab_type": "text"
      },
      "source": [
        "<a href=\"https://colab.research.google.com/github/rozapkk13/unet/blob/master/trainUnet.ipynb\" target=\"_parent\"><img src=\"https://colab.research.google.com/assets/colab-badge.svg\" alt=\"Open In Colab\"/></a>"
      ]
    },
    {
      "cell_type": "code",
      "source": [
        "!pip install segmentation-models\n"
      ],
      "metadata": {
        "id": "GnNYPLlmU3p3",
        "outputId": "2e3830ff-82a2-458f-bf11-73f69ccec7fb",
        "colab": {
          "base_uri": "https://localhost:8080/"
        }
      },
      "execution_count": 1,
      "outputs": [
        {
          "output_type": "stream",
          "name": "stdout",
          "text": [
            "Collecting segmentation-models\n",
            "  Downloading segmentation_models-1.0.1-py3-none-any.whl.metadata (938 bytes)\n",
            "Collecting keras-applications<=1.0.8,>=1.0.7 (from segmentation-models)\n",
            "  Downloading Keras_Applications-1.0.8-py3-none-any.whl.metadata (1.7 kB)\n",
            "Collecting image-classifiers==1.0.0 (from segmentation-models)\n",
            "  Downloading image_classifiers-1.0.0-py3-none-any.whl.metadata (8.6 kB)\n",
            "Collecting efficientnet==1.0.0 (from segmentation-models)\n",
            "  Downloading efficientnet-1.0.0-py3-none-any.whl.metadata (6.1 kB)\n",
            "Requirement already satisfied: scikit-image in /usr/local/lib/python3.11/dist-packages (from efficientnet==1.0.0->segmentation-models) (0.25.2)\n",
            "Requirement already satisfied: numpy>=1.9.1 in /usr/local/lib/python3.11/dist-packages (from keras-applications<=1.0.8,>=1.0.7->segmentation-models) (1.26.4)\n",
            "Requirement already satisfied: h5py in /usr/local/lib/python3.11/dist-packages (from keras-applications<=1.0.8,>=1.0.7->segmentation-models) (3.12.1)\n",
            "Requirement already satisfied: scipy>=1.11.4 in /usr/local/lib/python3.11/dist-packages (from scikit-image->efficientnet==1.0.0->segmentation-models) (1.13.1)\n",
            "Requirement already satisfied: networkx>=3.0 in /usr/local/lib/python3.11/dist-packages (from scikit-image->efficientnet==1.0.0->segmentation-models) (3.4.2)\n",
            "Requirement already satisfied: pillow>=10.1 in /usr/local/lib/python3.11/dist-packages (from scikit-image->efficientnet==1.0.0->segmentation-models) (11.1.0)\n",
            "Requirement already satisfied: imageio!=2.35.0,>=2.33 in /usr/local/lib/python3.11/dist-packages (from scikit-image->efficientnet==1.0.0->segmentation-models) (2.37.0)\n",
            "Requirement already satisfied: tifffile>=2022.8.12 in /usr/local/lib/python3.11/dist-packages (from scikit-image->efficientnet==1.0.0->segmentation-models) (2025.2.18)\n",
            "Requirement already satisfied: packaging>=21 in /usr/local/lib/python3.11/dist-packages (from scikit-image->efficientnet==1.0.0->segmentation-models) (24.2)\n",
            "Requirement already satisfied: lazy-loader>=0.4 in /usr/local/lib/python3.11/dist-packages (from scikit-image->efficientnet==1.0.0->segmentation-models) (0.4)\n",
            "Downloading segmentation_models-1.0.1-py3-none-any.whl (33 kB)\n",
            "Downloading efficientnet-1.0.0-py3-none-any.whl (17 kB)\n",
            "Downloading image_classifiers-1.0.0-py3-none-any.whl (19 kB)\n",
            "Downloading Keras_Applications-1.0.8-py3-none-any.whl (50 kB)\n",
            "\u001b[2K   \u001b[90m━━━━━━━━━━━━━━━━━━━━━━━━━━━━━━━━━━━━━━━━\u001b[0m \u001b[32m50.7/50.7 kB\u001b[0m \u001b[31m3.1 MB/s\u001b[0m eta \u001b[36m0:00:00\u001b[0m\n",
            "\u001b[?25hInstalling collected packages: keras-applications, image-classifiers, efficientnet, segmentation-models\n",
            "Successfully installed efficientnet-1.0.0 image-classifiers-1.0.0 keras-applications-1.0.8 segmentation-models-1.0.1\n"
          ]
        }
      ]
    },
    {
      "cell_type": "code",
      "source": [
        "import os\n",
        "os.environ[\"SM_FRAMEWORK\"] = \"tf.keras\"  # Force TensorFlow Keras compatibility\n",
        "\n",
        "import tensorflow as tf\n",
        "from segmentation_models import Unet  # ✅ Import pre-trained U-Net\n",
        "from tensorflow.keras.callbacks import ModelCheckpoint\n"
      ],
      "metadata": {
        "colab": {
          "base_uri": "https://localhost:8080/"
        },
        "id": "X9Kvyj6-QhuQ",
        "outputId": "adc203f2-ea19-4d01-8b4a-24210662f2d3"
      },
      "execution_count": 2,
      "outputs": [
        {
          "output_type": "stream",
          "name": "stdout",
          "text": [
            "Segmentation Models: using `tf.keras` framework.\n"
          ]
        }
      ]
    },
    {
      "cell_type": "markdown",
      "metadata": {
        "id": "zCbJ2jbCIHDO"
      },
      "source": [
        "## Train your Unet with membrane data\n",
        "membrane data is in folder membrane/, it is a binary classification task.\n",
        "\n",
        "The input shape of image and mask are the same :(batch_size,rows,cols,channel = 1)"
      ]
    },
    {
      "cell_type": "code",
      "source": [
        "  # model_debugger.py\n",
        "# Run this first to check if the model and dataloader work correctly\n",
        "\n",
        "import torch\n",
        "import torchvision\n",
        "import torchvision.transforms as transforms\n",
        "from torch.utils.data import DataLoader\n",
        "import torch.nn as nn\n",
        "\n",
        "# Define dataset transforms\n",
        "transform = transforms.Compose([\n",
        "    transforms.Resize((224, 224)),\n",
        "    transforms.ToTensor(),\n",
        "    transforms.Normalize(mean=[0.485, 0.456, 0.406], std=[0.229, 0.224, 0.225])\n",
        "])\n",
        "\n",
        "# Load dataset\n",
        "def get_dataloader(batch_size=8):\n",
        "    try:\n",
        "        dataset = torchvision.datasets.CIFAR10(root='./data', train=True, download=True, transform=transform)\n",
        "        dataloader = DataLoader(dataset, batch_size=batch_size, shuffle=True, num_workers=2)\n",
        "        print(\"✅ Dataloader loaded successfully!\")\n",
        "        return dataloader\n",
        "    except Exception as e:\n",
        "        print(f\"❌ Error in dataloader: {e}\")\n",
        "        return None\n",
        "\n",
        "# Define a simple model\n",
        "def get_model():\n",
        "    try:\n",
        "        model = torchvision.models.resnet18(pretrained=False)\n",
        "        model.fc = nn.Linear(model.fc.in_features, 10)  # Adjust for 10 classes\n",
        "        print(\"✅ Model loaded successfully!\")\n",
        "        return model\n",
        "    except Exception as e:\n",
        "        print(f\"❌ Error in model: {e}\")\n",
        "        return None\n",
        "\n",
        "# Run tests\n",
        "if __name__ == \"__main__\":\n",
        "    print(\"🔍 Checking Dataloader...\")\n",
        "    dataloader = get_dataloader()\n",
        "\n",
        "    print(\"\\n🔍 Checking Model...\")\n",
        "    model = get_model()\n",
        "\n",
        "    # Check if one batch of data passes through the model\n",
        "    if dataloader and model:\n",
        "        try:\n",
        "            images, labels = next(iter(dataloader))\n",
        "            outputs = model(images)\n",
        "            print(\"✅ Model forward pass successful!\")\n",
        "        except Exception as e:\n",
        "            print(f\"❌ Error in forward pass: {e}\")\n",
        "\n",
        "    print(\"\\n✅ Debugging complete. If no errors, you can proceed to training!\")\n"
      ],
      "metadata": {
        "id": "ANbEW3fLLj0E",
        "outputId": "70c2adbb-b0e4-4d7a-9a13-ffc716fdd656",
        "colab": {
          "base_uri": "https://localhost:8080/"
        }
      },
      "execution_count": 3,
      "outputs": [
        {
          "output_type": "stream",
          "name": "stdout",
          "text": [
            "🔍 Checking Dataloader...\n",
            "Downloading https://www.cs.toronto.edu/~kriz/cifar-10-python.tar.gz to ./data/cifar-10-python.tar.gz\n"
          ]
        },
        {
          "output_type": "stream",
          "name": "stderr",
          "text": [
            "100%|██████████| 170M/170M [00:03<00:00, 46.7MB/s]\n"
          ]
        },
        {
          "output_type": "stream",
          "name": "stdout",
          "text": [
            "Extracting ./data/cifar-10-python.tar.gz to ./data\n",
            "✅ Dataloader loaded successfully!\n",
            "\n",
            "🔍 Checking Model...\n"
          ]
        },
        {
          "output_type": "stream",
          "name": "stderr",
          "text": [
            "/usr/local/lib/python3.11/dist-packages/torchvision/models/_utils.py:208: UserWarning: The parameter 'pretrained' is deprecated since 0.13 and may be removed in the future, please use 'weights' instead.\n",
            "  warnings.warn(\n",
            "/usr/local/lib/python3.11/dist-packages/torchvision/models/_utils.py:223: UserWarning: Arguments other than a weight enum or `None` for 'weights' are deprecated since 0.13 and may be removed in the future. The current behavior is equivalent to passing `weights=None`.\n",
            "  warnings.warn(msg)\n"
          ]
        },
        {
          "output_type": "stream",
          "name": "stdout",
          "text": [
            "✅ Model loaded successfully!\n",
            "✅ Model forward pass successful!\n",
            "\n",
            "✅ Debugging complete. If no errors, you can proceed to training!\n"
          ]
        }
      ]
    },
    {
      "cell_type": "markdown",
      "metadata": {
        "id": "0Djq3L8qIHDT"
      },
      "source": [
        "### Train with data generator"
      ]
    },
    {
      "cell_type": "code",
      "execution_count": 4,
      "metadata": {
        "colab": {
          "base_uri": "https://localhost:8080/"
        },
        "id": "TeepB2gHIHDV",
        "outputId": "2d523880-7806-4bcf-ed4a-e1bf8d68b507"
      },
      "outputs": [
        {
          "output_type": "stream",
          "name": "stdout",
          "text": [
            "Using device: cuda\n",
            "Files already downloaded and verified\n",
            "Epoch 1, Loss: 1.3690193526575525\n",
            "Epoch 2, Loss: 0.8421951449802115\n",
            "Epoch 3, Loss: 0.6288292824421186\n",
            "Epoch 4, Loss: 0.49469657570733827\n",
            "Epoch 5, Loss: 0.39079503928116327\n",
            "Training complete\n",
            "Model saved.\n"
          ]
        }
      ],
      "source": [
        "# Second Code: train_model.py\n",
        "# Run this second to train the model after fixing potential issues\n",
        "\n",
        "import torch\n",
        "import torch.nn as nn\n",
        "import torch.optim as optim\n",
        "import torchvision\n",
        "import torchvision.transforms as transforms\n",
        "from torch.utils.data import DataLoader\n",
        "\n",
        "# Check for GPU availability\n",
        "device = torch.device(\"cuda\" if torch.cuda.is_available() else \"cpu\")\n",
        "print(f\"Using device: {device}\")\n",
        "\n",
        "# Define dataset transforms\n",
        "transform = transforms.Compose([\n",
        "    transforms.Resize((224, 224)),\n",
        "    transforms.ToTensor(),\n",
        "    transforms.Normalize(mean=[0.485, 0.456, 0.406], std=[0.229, 0.224, 0.225])\n",
        "])\n",
        "\n",
        "# Load dataset\n",
        "def get_dataloader(batch_size=32):\n",
        "    trainset = torchvision.datasets.CIFAR10(root='./data', train=True, download=True, transform=transform)\n",
        "    trainloader = DataLoader(trainset, batch_size=batch_size, shuffle=True, num_workers=2)\n",
        "    return trainloader\n",
        "\n",
        "# Define a simple model\n",
        "def get_model():\n",
        "    model = torchvision.models.resnet18(pretrained=False)\n",
        "    model.fc = nn.Linear(model.fc.in_features, 10)  # Adjust for 10 classes\n",
        "    return model.to(device)  # Move model to correct device\n",
        "\n",
        "# Training function\n",
        "def train_model(model, dataloader, epochs=5, lr=0.001):\n",
        "    model.train()  # Set model to training mode\n",
        "    criterion = nn.CrossEntropyLoss()\n",
        "    optimizer = optim.Adam(model.parameters(), lr=lr)\n",
        "\n",
        "    for epoch in range(epochs):\n",
        "        running_loss = 0.0\n",
        "        for images, labels in dataloader:\n",
        "            images, labels = images.to(device), labels.to(device)  # Move to GPU if available\n",
        "\n",
        "            optimizer.zero_grad()\n",
        "            outputs = model(images)\n",
        "            loss = criterion(outputs, labels)\n",
        "            loss.backward()\n",
        "            optimizer.step()\n",
        "            running_loss += loss.item()\n",
        "\n",
        "        print(f'Epoch {epoch+1}, Loss: {running_loss/len(dataloader)}')\n",
        "\n",
        "    print('Training complete')\n",
        "    torch.save(model.state_dict(), 'trained_model.pth')\n",
        "    print('Model saved.')\n",
        "\n",
        "if __name__ == \"__main__\":\n",
        "    trainloader = get_dataloader()\n",
        "    model = get_model()\n",
        "    train_model(model, trainloader)\n"
      ]
    },
    {
      "cell_type": "markdown",
      "metadata": {
        "id": "Gvs5NB8qIHDZ"
      },
      "source": [
        "italicized text### Train with npy file"
      ]
    },
    {
      "cell_type": "code",
      "execution_count": 5,
      "metadata": {
        "id": "yy2-68GOIHDa"
      },
      "outputs": [],
      "source": [
        "#imgs_train,imgs_mask_train = geneTrainNpy(\"data/membrane/train/aug/\",\"data/membrane/train/aug/\")\n",
        "#model.fit(imgs_train, imgs_mask_train, batch_size=2, nb_epoch=10, verbose=1,validation_split=0.2, shuffle=True, callbacks=[model_checkpoint])"
      ]
    },
    {
      "cell_type": "markdown",
      "metadata": {
        "id": "FsUS0-4QIHDb"
      },
      "source": [
        "### test your model and save predicted results"
      ]
    },
    {
      "cell_type": "code",
      "source": [
        "import os\n",
        "import numpy as np\n",
        "import cv2\n",
        "import tensorflow as tf\n",
        "from skimage import io, transform\n",
        "from google.colab import files\n",
        "import zipfile\n",
        "\n",
        "# ✅ Step 1: Upload & Extract ZIP File\n",
        "uploaded = files.upload()  # Upload ZIP manually\n",
        "zip_filename = list(uploaded.keys())[0]  # Get uploaded file name\n",
        "extract_path = f\"/content/{zip_filename.split('.')[0]}\"  # Extracted folder path\n",
        "\n",
        "# Extract ZIP\n",
        "os.makedirs(extract_path, exist_ok=True)  # Ensure extraction path exists\n",
        "with zipfile.ZipFile(zip_filename, 'r') as zip_ref:\n",
        "    zip_ref.extractall(extract_path)\n",
        "\n",
        "test_path = os.path.join(extract_path, \"test\")  # Adjust based on ZIP contents\n",
        "print(\"✅ Extracted to:\", test_path)\n",
        "print(\"📂 Test images:\", os.listdir(test_path))\n",
        "\n",
        "# ✅ Step 2: Ensure test folder exists\n",
        "if not os.path.exists(test_path):\n",
        "    os.makedirs(test_path)\n",
        "    print(\"🚨 Warning: Test folder was missing! Created:\", test_path)\n",
        "\n",
        "# ✅ Step 3: Define test image generator\n",
        "def testGenerator(test_path, target_size=(256, 256)):\n",
        "    for file_name in os.listdir(test_path):\n",
        "        img_path = os.path.join(test_path, file_name)\n",
        "        img = io.imread(img_path)\n",
        "\n",
        "        # Convert grayscale images to RGB\n",
        "        if len(img.shape) == 2:\n",
        "            img = cv2.cvtColor(img, cv2.COLOR_GRAY2RGB)\n",
        "\n",
        "        # Resize image\n",
        "        img = transform.resize(img, target_size, mode='constant', anti_aliasing=True)\n",
        "\n",
        "        # Debug: Check if input image has valid values\n",
        "        print(f\"🖼 Processing {file_name} -> Min: {np.min(img)}, Max: {np.max(img)}, Mean: {np.mean(img)}\")\n",
        "\n",
        "        # Normalize (Fix NaNs in preprocessing)\n",
        "        img = img / (np.max(img) + 1e-8)  # Avoid division by zero\n",
        "        img = np.expand_dims(img, axis=0)\n",
        "\n",
        "        # Debug: After normalization\n",
        "        print(f\"📊 After Normalization -> Min: {np.min(img)}, Max: {np.max(img)}, Mean: {np.mean(img)}\")\n",
        "\n",
        "        yield (img,)\n",
        "\n",
        "# ✅ Step 4: Load Model Safely\n",
        "model_path = \"/content/unet_membrane.keras\"  # Ensure correct model path\n",
        "if os.path.exists(model_path):\n",
        "    model = tf.keras.models.load_model(model_path, safe_mode=False)\n",
        "    print(\"✅ Model Loaded Successfully!\")\n",
        "else:\n",
        "    raise FileNotFoundError(\"🚨 Model file not found! Upload your .keras model.\")\n",
        "\n",
        "# ✅ Step 5: Check for NaNs in Model Weights\n",
        "for layer in model.layers:\n",
        "    weights = layer.get_weights()\n",
        "    for w in weights:\n",
        "        if np.isnan(w).any():\n",
        "            print(f\"🚨 NaN detected in layer: {layer.name}\")\n",
        "\n",
        "# ✅ Step 6: Generate Predictions\n",
        "test_gen = testGenerator(test_path)\n",
        "results = model.predict(test_gen, verbose=1)\n",
        "\n",
        "# ✅ Step 7: Debugging - Check Min/Max Values\n",
        "print(\"Min value in predictions:\", np.min(results))\n",
        "print(\"Max value in predictions:\", np.max(results))\n",
        "print(\"Mean value in predictions:\", np.mean(results))\n",
        "\n",
        "# ✅ Fix NaNs in Predictions\n",
        "results = np.nan_to_num(results)  # Replace NaNs with 0\n",
        "print(\"✅ Fixed NaNs in predictions\")\n",
        "\n",
        "# ✅ Additional Debugging\n",
        "print(\"Unique values in predictions:\", np.unique(results))\n",
        "\n",
        "# ✅ Step 8: Save Predicted Images\n",
        "save_path = os.path.join(extract_path, \"predictions\")  # Save inside extracted folder\n",
        "os.makedirs(save_path, exist_ok=True)\n",
        "\n",
        "def saveResult(save_path, npyfile):\n",
        "    for i, img in enumerate(npyfile):\n",
        "        img = np.squeeze(img)\n",
        "\n",
        "        # Ensure proper scaling before saving\n",
        "        img = (img - np.min(img)) / (np.max(img) - np.min(img) + 1e-8)  # Normalize between 0-1\n",
        "        img = (img * 255).astype(np.uint8)\n",
        "\n",
        "        # Convert to RGB to avoid black images\n",
        "        img = cv2.merge([img, img, img])\n",
        "\n",
        "        save_filename = os.path.join(save_path, f\"{i}_predict.png\")\n",
        "        cv2.imwrite(save_filename, img)\n",
        "        print(f\"✅ Saved: {save_filename}\")\n",
        "\n",
        "saveResult(save_path, results)\n",
        "print(\"🎉 Prediction Complete! Check saved images in:\", save_path)\n"
      ],
      "metadata": {
        "colab": {
          "base_uri": "https://localhost:8080/",
          "height": 38
        },
        "id": "DdecgbRgWHwe",
        "outputId": "78f66955-a025-4ee2-f5e7-8a278edb2ce1"
      },
      "execution_count": null,
      "outputs": [
        {
          "output_type": "display_data",
          "data": {
            "text/plain": [
              "<IPython.core.display.HTML object>"
            ],
            "text/html": [
              "\n",
              "     <input type=\"file\" id=\"files-9ece0efc-b14c-47e7-939d-ba3bb884a82b\" name=\"files[]\" multiple disabled\n",
              "        style=\"border:none\" />\n",
              "     <output id=\"result-9ece0efc-b14c-47e7-939d-ba3bb884a82b\">\n",
              "      Upload widget is only available when the cell has been executed in the\n",
              "      current browser session. Please rerun this cell to enable.\n",
              "      </output>\n",
              "      <script>// Copyright 2017 Google LLC\n",
              "//\n",
              "// Licensed under the Apache License, Version 2.0 (the \"License\");\n",
              "// you may not use this file except in compliance with the License.\n",
              "// You may obtain a copy of the License at\n",
              "//\n",
              "//      http://www.apache.org/licenses/LICENSE-2.0\n",
              "//\n",
              "// Unless required by applicable law or agreed to in writing, software\n",
              "// distributed under the License is distributed on an \"AS IS\" BASIS,\n",
              "// WITHOUT WARRANTIES OR CONDITIONS OF ANY KIND, either express or implied.\n",
              "// See the License for the specific language governing permissions and\n",
              "// limitations under the License.\n",
              "\n",
              "/**\n",
              " * @fileoverview Helpers for google.colab Python module.\n",
              " */\n",
              "(function(scope) {\n",
              "function span(text, styleAttributes = {}) {\n",
              "  const element = document.createElement('span');\n",
              "  element.textContent = text;\n",
              "  for (const key of Object.keys(styleAttributes)) {\n",
              "    element.style[key] = styleAttributes[key];\n",
              "  }\n",
              "  return element;\n",
              "}\n",
              "\n",
              "// Max number of bytes which will be uploaded at a time.\n",
              "const MAX_PAYLOAD_SIZE = 100 * 1024;\n",
              "\n",
              "function _uploadFiles(inputId, outputId) {\n",
              "  const steps = uploadFilesStep(inputId, outputId);\n",
              "  const outputElement = document.getElementById(outputId);\n",
              "  // Cache steps on the outputElement to make it available for the next call\n",
              "  // to uploadFilesContinue from Python.\n",
              "  outputElement.steps = steps;\n",
              "\n",
              "  return _uploadFilesContinue(outputId);\n",
              "}\n",
              "\n",
              "// This is roughly an async generator (not supported in the browser yet),\n",
              "// where there are multiple asynchronous steps and the Python side is going\n",
              "// to poll for completion of each step.\n",
              "// This uses a Promise to block the python side on completion of each step,\n",
              "// then passes the result of the previous step as the input to the next step.\n",
              "function _uploadFilesContinue(outputId) {\n",
              "  const outputElement = document.getElementById(outputId);\n",
              "  const steps = outputElement.steps;\n",
              "\n",
              "  const next = steps.next(outputElement.lastPromiseValue);\n",
              "  return Promise.resolve(next.value.promise).then((value) => {\n",
              "    // Cache the last promise value to make it available to the next\n",
              "    // step of the generator.\n",
              "    outputElement.lastPromiseValue = value;\n",
              "    return next.value.response;\n",
              "  });\n",
              "}\n",
              "\n",
              "/**\n",
              " * Generator function which is called between each async step of the upload\n",
              " * process.\n",
              " * @param {string} inputId Element ID of the input file picker element.\n",
              " * @param {string} outputId Element ID of the output display.\n",
              " * @return {!Iterable<!Object>} Iterable of next steps.\n",
              " */\n",
              "function* uploadFilesStep(inputId, outputId) {\n",
              "  const inputElement = document.getElementById(inputId);\n",
              "  inputElement.disabled = false;\n",
              "\n",
              "  const outputElement = document.getElementById(outputId);\n",
              "  outputElement.innerHTML = '';\n",
              "\n",
              "  const pickedPromise = new Promise((resolve) => {\n",
              "    inputElement.addEventListener('change', (e) => {\n",
              "      resolve(e.target.files);\n",
              "    });\n",
              "  });\n",
              "\n",
              "  const cancel = document.createElement('button');\n",
              "  inputElement.parentElement.appendChild(cancel);\n",
              "  cancel.textContent = 'Cancel upload';\n",
              "  const cancelPromise = new Promise((resolve) => {\n",
              "    cancel.onclick = () => {\n",
              "      resolve(null);\n",
              "    };\n",
              "  });\n",
              "\n",
              "  // Wait for the user to pick the files.\n",
              "  const files = yield {\n",
              "    promise: Promise.race([pickedPromise, cancelPromise]),\n",
              "    response: {\n",
              "      action: 'starting',\n",
              "    }\n",
              "  };\n",
              "\n",
              "  cancel.remove();\n",
              "\n",
              "  // Disable the input element since further picks are not allowed.\n",
              "  inputElement.disabled = true;\n",
              "\n",
              "  if (!files) {\n",
              "    return {\n",
              "      response: {\n",
              "        action: 'complete',\n",
              "      }\n",
              "    };\n",
              "  }\n",
              "\n",
              "  for (const file of files) {\n",
              "    const li = document.createElement('li');\n",
              "    li.append(span(file.name, {fontWeight: 'bold'}));\n",
              "    li.append(span(\n",
              "        `(${file.type || 'n/a'}) - ${file.size} bytes, ` +\n",
              "        `last modified: ${\n",
              "            file.lastModifiedDate ? file.lastModifiedDate.toLocaleDateString() :\n",
              "                                    'n/a'} - `));\n",
              "    const percent = span('0% done');\n",
              "    li.appendChild(percent);\n",
              "\n",
              "    outputElement.appendChild(li);\n",
              "\n",
              "    const fileDataPromise = new Promise((resolve) => {\n",
              "      const reader = new FileReader();\n",
              "      reader.onload = (e) => {\n",
              "        resolve(e.target.result);\n",
              "      };\n",
              "      reader.readAsArrayBuffer(file);\n",
              "    });\n",
              "    // Wait for the data to be ready.\n",
              "    let fileData = yield {\n",
              "      promise: fileDataPromise,\n",
              "      response: {\n",
              "        action: 'continue',\n",
              "      }\n",
              "    };\n",
              "\n",
              "    // Use a chunked sending to avoid message size limits. See b/62115660.\n",
              "    let position = 0;\n",
              "    do {\n",
              "      const length = Math.min(fileData.byteLength - position, MAX_PAYLOAD_SIZE);\n",
              "      const chunk = new Uint8Array(fileData, position, length);\n",
              "      position += length;\n",
              "\n",
              "      const base64 = btoa(String.fromCharCode.apply(null, chunk));\n",
              "      yield {\n",
              "        response: {\n",
              "          action: 'append',\n",
              "          file: file.name,\n",
              "          data: base64,\n",
              "        },\n",
              "      };\n",
              "\n",
              "      let percentDone = fileData.byteLength === 0 ?\n",
              "          100 :\n",
              "          Math.round((position / fileData.byteLength) * 100);\n",
              "      percent.textContent = `${percentDone}% done`;\n",
              "\n",
              "    } while (position < fileData.byteLength);\n",
              "  }\n",
              "\n",
              "  // All done.\n",
              "  yield {\n",
              "    response: {\n",
              "      action: 'complete',\n",
              "    }\n",
              "  };\n",
              "}\n",
              "\n",
              "scope.google = scope.google || {};\n",
              "scope.google.colab = scope.google.colab || {};\n",
              "scope.google.colab._files = {\n",
              "  _uploadFiles,\n",
              "  _uploadFilesContinue,\n",
              "};\n",
              "})(self);\n",
              "</script> "
            ]
          },
          "metadata": {}
        }
      ]
    },
    {
      "cell_type": "code",
      "source": [
        "def testGenerator(test_path, target_size=(256, 256)):\n",
        "    for file_name in os.listdir(test_path):\n",
        "        img_path = os.path.join(test_path, file_name)\n",
        "        img = io.imread(img_path)\n",
        "\n",
        "        # Convert grayscale images to RGB\n",
        "        if len(img.shape) == 2:\n",
        "            img = cv2.cvtColor(img, cv2.COLOR_GRAY2RGB)\n",
        "\n",
        "        # Resize image\n",
        "        img = transform.resize(img, target_size, mode='constant', anti_aliasing=True)\n",
        "\n",
        "        # Debug: Check if input image has valid values\n",
        "        print(f\"🖼 Processing {file_name} -> Min: {np.min(img)}, Max: {np.max(img)}, Mean: {np.mean(img)}\")\n",
        "\n",
        "        # Normalize (Fix NaNs in preprocessing)\n",
        "        img = img / (np.max(img) + 1e-8)  # Avoid division by zero\n",
        "        img = np.expand_dims(img, axis=0)\n",
        "\n",
        "        # Debug: After normalization\n",
        "        print(f\"📊 After Normalization -> Min: {np.min(img)}, Max: {np.max(img)}, Mean: {np.mean(img)}\")\n",
        "\n",
        "        yield (img,)\n"
      ],
      "metadata": {
        "id": "1MBIku8DU0zn"
      },
      "execution_count": null,
      "outputs": []
    }
  ],
  "metadata": {
    "kernelspec": {
      "display_name": "Python 3",
      "name": "python3"
    },
    "language_info": {
      "codemirror_mode": {
        "name": "ipython",
        "version": 3
      },
      "file_extension": ".py",
      "mimetype": "text/x-python",
      "name": "python",
      "nbconvert_exporter": "python",
      "pygments_lexer": "ipython3",
      "version": "3.11.8"
    },
    "colab": {
      "provenance": [],
      "gpuType": "T4",
      "include_colab_link": true
    },
    "accelerator": "GPU"
  },
  "nbformat": 4,
  "nbformat_minor": 0
}