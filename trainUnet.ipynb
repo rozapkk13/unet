{
  "cells": [
    {
      "cell_type": "code",
      "source": [
        "import os\n",
        "os.environ[\"SM_FRAMEWORK\"] = \"tf.keras\"  # Force TensorFlow Keras compatibility\n",
        "\n",
        "import tensorflow as tf\n",
        "from segmentation_models import Unet  # ✅ Import pre-trained U-Net\n",
        "from tensorflow.keras.callbacks import ModelCheckpoint\n"
      ],
      "metadata": {
        "id": "X9Kvyj6-QhuQ"
      },
      "execution_count": 4,
      "outputs": []
    },
    {
      "cell_type": "code",
      "source": [
        "import segmentation_models\n",
        "print(\"Segmentation Models installed successfully!\")\n"
      ],
      "metadata": {
        "id": "MWlX_hp4Pzmz",
        "outputId": "b386309b-31ce-4d80-e70f-20ef3aaecc4c",
        "colab": {
          "base_uri": "https://localhost:8080/"
        }
      },
      "execution_count": 5,
      "outputs": [
        {
          "output_type": "stream",
          "name": "stdout",
          "text": [
            "Segmentation Models installed successfully!\n"
          ]
        }
      ]
    },
    {
      "cell_type": "markdown",
      "metadata": {
        "id": "zCbJ2jbCIHDO"
      },
      "source": [
        "## Train your Unet with membrane data\n",
        "membrane data is in folder membrane/, it is a binary classification task.\n",
        "\n",
        "The input shape of image and mask are the same :(batch_size,rows,cols,channel = 1)"
      ]
    },
    {
      "cell_type": "markdown",
      "metadata": {
        "id": "0Djq3L8qIHDT"
      },
      "source": [
        "### Train with data generator"
      ]
    },
    {
      "cell_type": "code",
      "execution_count": 6,
      "metadata": {
        "id": "TeepB2gHIHDV",
        "outputId": "a610ccde-a5b5-4f2e-efb2-2c3e8fed9dc5",
        "colab": {
          "base_uri": "https://localhost:8080/",
          "height": 211
        }
      },
      "outputs": [
        {
          "output_type": "error",
          "ename": "NameError",
          "evalue": "name 'trainGenerator' is not defined",
          "traceback": [
            "\u001b[0;31m---------------------------------------------------------------------------\u001b[0m",
            "\u001b[0;31mNameError\u001b[0m                                 Traceback (most recent call last)",
            "\u001b[0;32m<ipython-input-6-6f8936ae4cd1>\u001b[0m in \u001b[0;36m<cell line: 0>\u001b[0;34m()\u001b[0m\n\u001b[1;32m     24\u001b[0m \u001b[0;34m\u001b[0m\u001b[0m\n\u001b[1;32m     25\u001b[0m \u001b[0;31m# ✅ Create generator once\u001b[0m\u001b[0;34m\u001b[0m\u001b[0;34m\u001b[0m\u001b[0m\n\u001b[0;32m---> 26\u001b[0;31m \u001b[0mmyGene\u001b[0m \u001b[0;34m=\u001b[0m \u001b[0mtrainGenerator\u001b[0m\u001b[0;34m(\u001b[0m\u001b[0;36m2\u001b[0m\u001b[0;34m,\u001b[0m \u001b[0;34m'data/membrane/train'\u001b[0m\u001b[0;34m,\u001b[0m \u001b[0;34m'image'\u001b[0m\u001b[0;34m,\u001b[0m \u001b[0;34m'label'\u001b[0m\u001b[0;34m,\u001b[0m \u001b[0mdata_gen_args\u001b[0m\u001b[0;34m,\u001b[0m \u001b[0msave_to_dir\u001b[0m\u001b[0;34m=\u001b[0m\u001b[0;32mNone\u001b[0m\u001b[0;34m)\u001b[0m\u001b[0;34m\u001b[0m\u001b[0;34m\u001b[0m\u001b[0m\n\u001b[0m\u001b[1;32m     27\u001b[0m \u001b[0;34m\u001b[0m\u001b[0m\n\u001b[1;32m     28\u001b[0m \u001b[0;31m# ✅ Convert to RGB\u001b[0m\u001b[0;34m\u001b[0m\u001b[0;34m\u001b[0m\u001b[0m\n",
            "\u001b[0;31mNameError\u001b[0m: name 'trainGenerator' is not defined"
          ]
        }
      ],
      "source": [
        "import tensorflow as tf\n",
        "from tensorflow.keras.callbacks import ModelCheckpoint\n",
        "from tensorflow.keras.mixed_precision import set_global_policy\n",
        "\n",
        "# ✅ Enable Mixed Precision & XLA\n",
        "set_global_policy('mixed_float16')\n",
        "tf.config.optimizer.set_jit(True)\n",
        "tf.config.optimizer.set_experimental_options({\"auto_mixed_precision\": True})\n",
        "\n",
        "# ✅ Enable GPU Memory Growth\n",
        "gpus = tf.config.experimental.list_physical_devices('GPU')\n",
        "if gpus:\n",
        "    for gpu in gpus:\n",
        "        tf.config.experimental.set_memory_growth(gpu, True)\n",
        "\n",
        "# ✅ Data Generator Optimization\n",
        "AUTOTUNE = tf.data.AUTOTUNE\n",
        "\n",
        "# ✅ Import trainGenerator if it's in another script\n",
        "# from data_loader import trainGenerator\n",
        "def convert_grayscale_to_rgb(generator):\n",
        "    for batch in generator:\n",
        "        image, mask = batch\n",
        "        image = np.repeat(image, 3, axis=-1)  # ✅ Convert grayscale to RGB\n",
        "        yield image, mask\n",
        "# ✅ Define it here if missing\n",
        "from tensorflow.keras.preprocessing.image import ImageDataGenerator\n",
        "\n",
        "from tensorflow.keras.preprocessing.image import ImageDataGenerator\n",
        "\n",
        "# ✅ Define Data Augmentation Arguments\n",
        "data_gen_args = dict(\n",
        "    rotation_range=0.2,\n",
        "    width_shift_range=0.05,\n",
        "    height_shift_range=0.05,\n",
        "    shear_range=0.05,\n",
        "    zoom_range=0.05,\n",
        "    horizontal_flip=True,\n",
        "    fill_mode='nearest'\n",
        ")\n",
        "\n",
        "# ✅ Fix trainGenerator indentation\n",
        "def trainGenerator(batch_size, train_path, image_folder, label_folder, aug_dict, save_to_dir=None):\n",
        "    image_datagen = ImageDataGenerator(**aug_dict)\n",
        "    mask_datagen = ImageDataGenerator(**aug_dict)\n",
        "\n",
        "    image_generator = image_datagen.flow_from_directory(\n",
        "        train_path,\n",
        "        classes=[image_folder],\n",
        "        class_mode=None,\n",
        "        color_mode='grayscale',\n",
        "        target_size=(256, 256),\n",
        "        batch_size=batch_size,\n",
        "        save_to_dir=save_to_dir\n",
        "    )\n",
        "\n",
        "    mask_generator = mask_datagen.flow_from_directory(\n",
        "        train_path,\n",
        "        classes=[label_folder],\n",
        "        class_mode=None,\n",
        "        color_mode='grayscale',\n",
        "        target_size=(256, 256),\n",
        "        batch_size=batch_size,\n",
        "        save_to_dir=save_to_dir\n",
        "    )\n",
        "\n",
        "    train_generator = zip(image_generator, mask_generator)\n",
        "    return train_generator\n",
        "\n",
        "# ✅ Now it should work without indentation errors\n",
        "myGene = trainGenerator(16, 'data/membrane/train', 'image', 'label', data_gen_args, save_to_dir=None)\n",
        "\n",
        "\n",
        "myGene = convert_grayscale_to_rgb(myGene)\n",
        "\n",
        "\n",
        "# ✅ Initialize U-Net Model (Multi-GPU)\n",
        "strategy = tf.distribute.MirroredStrategy()\n",
        "with strategy.scope():\n",
        "    model = Unet('resnet34', encoder_weights='imagenet', input_shape=(256, 256, 3))\n",
        "    model.compile(optimizer=tf.keras.optimizers.Adam(learning_rate=1e-4),\n",
        "                  loss=tf.keras.losses.BinaryCrossentropy(from_logits=True),\n",
        "                  metrics=['accuracy'])\n",
        "\n",
        "print(model.summary())\n",
        "\n",
        "# ✅ Train the model\n",
        "model_checkpoint = ModelCheckpoint('unet_membrane.keras', monitor='loss', verbose=1, save_best_only=True)\n",
        "steps_per_epoch = 300\n",
        "model.fit(myGene, steps_per_epoch=steps_per_epoch, epochs=5, callbacks=[model_checkpoint])\n"
      ]
    },
    {
      "cell_type": "markdown",
      "metadata": {
        "id": "Gvs5NB8qIHDZ"
      },
      "source": [
        "### Train with npy file"
      ]
    },
    {
      "cell_type": "code",
      "execution_count": null,
      "metadata": {
        "id": "yy2-68GOIHDa"
      },
      "outputs": [],
      "source": [
        "#imgs_train,imgs_mask_train = geneTrainNpy(\"data/membrane/train/aug/\",\"data/membrane/train/aug/\")\n",
        "#model.fit(imgs_train, imgs_mask_train, batch_size=2, nb_epoch=10, verbose=1,validation_split=0.2, shuffle=True, callbacks=[model_checkpoint])"
      ]
    },
    {
      "cell_type": "markdown",
      "metadata": {
        "id": "FsUS0-4QIHDb"
      },
      "source": [
        "### test your model and save predicted results"
      ]
    },
    {
      "cell_type": "code",
      "execution_count": null,
      "metadata": {
        "id": "zG6rcQFPIHDc"
      },
      "outputs": [],
      "source": [
        "testGene = testGenerator(\"data/membrane/test\")\n",
        "model = Unet()\n",
        "model.load_weights(\"unet_membrane.hdf5\")\n",
        "results = model.predict_generator(testGene,30,verbose=1)\n",
        "saveResult(\"data/membrane/test\",results)"
      ]
    }
  ],
  "metadata": {
    "kernelspec": {
      "display_name": "Python 3",
      "name": "python3"
    },
    "language_info": {
      "codemirror_mode": {
        "name": "ipython",
        "version": 3
      },
      "file_extension": ".py",
      "mimetype": "text/x-python",
      "name": "python",
      "nbconvert_exporter": "python",
      "pygments_lexer": "ipython3",
      "version": "3.11.8"
    },
    "colab": {
      "provenance": [],
      "gpuType": "T4"
    },
    "accelerator": "GPU"
  },
  "nbformat": 4,
  "nbformat_minor": 0
}